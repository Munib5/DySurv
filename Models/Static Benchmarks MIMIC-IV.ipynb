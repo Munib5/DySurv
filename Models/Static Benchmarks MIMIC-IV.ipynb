{
 "cells": [
  {
   "cell_type": "code",
   "execution_count": null,
   "id": "209f2e46",
   "metadata": {},
   "outputs": [],
   "source": [
    "import pandas as pd\n",
    "from itertools import islice\n",
    "import numpy as np\n",
    "import xarray\n",
    "import json\n",
    "import os\n",
    "import matplotlib.pyplot as plt\n",
    "from sklearn.metrics import confusion_matrix\n",
    "from sklearn.model_selection import StratifiedShuffleSplit\n",
    "from skmultilearn.model_selection import iterative_train_test_split\n",
    "from sklearn.model_selection import ParameterGrid\n",
    "from sksurv.metrics import concordance_index_ipcw, brier_score, cumulative_dynamic_auc\n",
    "from sklearn.preprocessing import MinMaxScaler, QuantileTransformer\n",
    "\n",
    "import numpy as np\n",
    "import matplotlib.pyplot as plt\n",
    "\n",
    "# For preprocessing\n",
    "from sklearn.preprocessing import StandardScaler\n",
    "from sklearn_pandas import DataFrameMapper \n",
    "from pycox.models import DeepHitSingle\n",
    "\n",
    "import torch # For building the networks \n",
    "from torch import nn\n",
    "import torch.nn.functional as F\n",
    "import torchtuples as tt # Some useful functions\n",
    "\n",
    "from pycox.datasets import metabric\n",
    "from pycox.models import LogisticHazard\n",
    "from pycox.models import CoxPH\n",
    "from pycox.models.loss import NLLLogistiHazardLoss, NLLMTLRLoss, BCESurvLoss\n",
    "from pycox.evaluation import EvalSurv\n",
    "\n",
    "import seaborn as sn\n",
    "sn.set_theme(style=\"white\", palette=\"rocket_r\")\n",
    "\n",
    "np.random.seed(100)\n",
    "_ = torch.manual_seed(100)"
   ]
  },
  {
   "cell_type": "code",
   "execution_count": null,
   "id": "58e61055",
   "metadata": {},
   "outputs": [],
   "source": [
    "labels = pd.read_csv('preprocessed_labels.csv', index_col='patient')\n",
    "labels['actualiculos'] = labels['actualiculos']*24\n",
    "labels.drop(labels.loc[labels['actualiculos']>240].index, inplace=True)\n",
    "\n",
    "statics = pd.read_csv('preprocessed_flat.csv', index_col='patient')\n",
    "statics.drop('nullheight', axis=1, inplace=True)"
   ]
  },
  {
   "cell_type": "code",
   "execution_count": null,
   "id": "af65b824",
   "metadata": {},
   "outputs": [],
   "source": [
    "data = statics.merge(labels, left_index=True, right_index=True)"
   ]
  },
  {
   "cell_type": "code",
   "execution_count": null,
   "id": "e6bfb448",
   "metadata": {},
   "outputs": [],
   "source": [
    "sample_labels = labels.loc[list(set(list(data.index.get_level_values('patient'))))]\n",
    "\n",
    "df_test = sample_labels.sample(frac=0.2)\n",
    "df_train = sample_labels.drop(df_test.index)\n",
    "df_val = sample_labels.sample(frac=0.2)\n",
    "df_train = sample_labels.drop(df_val.index)\n",
    "\n",
    "cols_standardize = ['age', 'height', 'weight']\n",
    "cols_leave = ['gender', 'hour', 'eyes', 'motor', 'verbal',\n",
    "       'ethnicity_BLACK/AFRICAN AMERICAN', 'ethnicity_OTHER',\n",
    "       'ethnicity_UNKNOWN', 'ethnicity_WHITE',\n",
    "       'ethnicity_WHITE - OTHER EUROPEAN', 'ethnicity_misc',\n",
    "       'first_careunit_Cardiac Vascular Intensive Care Unit (CVICU)',\n",
    "       'first_careunit_Coronary Care Unit (CCU)',\n",
    "       'first_careunit_Medical Intensive Care Unit (MICU)',\n",
    "       'first_careunit_Medical/Surgical Intensive Care Unit (MICU/SICU)',\n",
    "       'first_careunit_Neuro Intermediate', 'first_careunit_Neuro Stepdown',\n",
    "       'first_careunit_Neuro Surgical Intensive Care Unit (Neuro SICU)',\n",
    "       'first_careunit_Surgical Intensive Care Unit (SICU)',\n",
    "       'first_careunit_Trauma SICU (TSICU)',\n",
    "       'admission_location_EMERGENCY ROOM',\n",
    "       'admission_location_PHYSICIAN REFERRAL',\n",
    "       'admission_location_PROCEDURE SITE',\n",
    "       'admission_location_TRANSFER FROM HOSPITAL',\n",
    "       'admission_location_TRANSFER FROM SKILLED NURSING FACILITY',\n",
    "       'admission_location_WALK-IN/SELF REFERRAL', 'admission_location_misc',\n",
    "       'insurance_Medicaid', 'insurance_Medicare', 'insurance_Other']\n",
    "\n",
    "standardize = [([col], StandardScaler()) for col in cols_standardize]\n",
    "leave = [(col, None) for col in cols_leave]\n",
    "\n",
    "x_mapper = DataFrameMapper(standardize + leave)\n",
    "\n",
    "st = set(list(df_val.index.get_level_values('patient')))\n",
    "val_index = [i for i, e in enumerate(list(set(list(data.index.get_level_values('patient'))))) if e in st]\n",
    "st = set(list(df_train.index.get_level_values('patient')))\n",
    "train_index = [i for i, e in enumerate(list(set(list(data.index.get_level_values('patient'))))) if e in st]\n",
    "st = set(list(df_test.index.get_level_values('patient')))\n",
    "test_index = [i for i, e in enumerate(list(set(list(data.index.get_level_values('patient'))))) if e in st]\n",
    "\n",
    "input_train = data.iloc[list(train_index)]\n",
    "input_val = data.iloc[val_index]\n",
    "input_test = data.iloc[test_index]\n",
    "\n",
    "num_durations = 10\n",
    "\n",
    "labtrans = LogisticHazard.label_transform(num_durations)\n",
    "\n",
    "get_target = lambda df: (df['actualiculos'].values.astype('float32'), df['actualhospitalmortality'].values.astype('int32'))\n",
    "y_train = labtrans.fit_transform(*get_target(input_train))\n",
    "y_val = labtrans.fit_transform(*get_target(input_val))\n",
    "\n",
    "input_train.drop(['uniquepid', 'patienthealthsystemstayid', 'actualhospitalmortality', 'actualiculos'], axis=1, inplace=True)\n",
    "input_val.drop(['uniquepid', 'patienthealthsystemstayid', 'actualhospitalmortality', 'actualiculos'], axis=1, inplace=True)\n",
    "\n",
    "x_train = x_mapper.fit_transform(input_train).astype('float32')\n",
    "x_val = x_mapper.transform(input_val).astype('float32')\n",
    "\n",
    "train = (x_train, y_train)\n",
    "val = (x_val, y_val)\n",
    "\n",
    "# We don't need to transform the test labels\n",
    "durations_test, events_test = get_target(input_test)\n",
    "\n",
    "input_test.drop(['uniquepid', 'patienthealthsystemstayid', 'actualhospitalmortality', 'actualiculos'], axis=1, inplace=True)\n",
    "\n",
    "x_test = x_mapper.transform(input_test).astype('float32')"
   ]
  },
  {
   "cell_type": "markdown",
   "id": "2cf9be28",
   "metadata": {},
   "source": [
    "# Standard Logistic Hazard"
   ]
  },
  {
   "cell_type": "code",
   "execution_count": null,
   "id": "b98d9125",
   "metadata": {},
   "outputs": [],
   "source": [
    "in_features = x_train.shape[1]\n",
    "num_nodes = [3*in_features, 5*in_features, 3*in_features]\n",
    "out_features = 10\n",
    "batch_norm = False\n",
    "dropout = 0.0\n",
    "output_bias = False\n",
    "\n",
    "net = tt.practical.MLPVanilla(in_features, num_nodes, out_features, batch_norm,\n",
    "                              dropout, output_bias=output_bias)"
   ]
  },
  {
   "cell_type": "code",
   "execution_count": null,
   "id": "6ff8787b",
   "metadata": {},
   "outputs": [],
   "source": [
    "model = LogisticHazard(net, tt.optim.Adam(0.01), duration_index=labtrans.cuts)"
   ]
  },
  {
   "cell_type": "code",
   "execution_count": null,
   "id": "c5557aae",
   "metadata": {},
   "outputs": [],
   "source": [
    "batch_size = 256\n",
    "epochs = 1000"
   ]
  },
  {
   "cell_type": "code",
   "execution_count": null,
   "id": "3c8a0500",
   "metadata": {},
   "outputs": [],
   "source": [
    "log = model.fit(x_train, y_train, batch_size, epochs, val_data=val)"
   ]
  },
  {
   "cell_type": "code",
   "execution_count": null,
   "id": "f4fe4002",
   "metadata": {},
   "outputs": [],
   "source": [
    "_ = log.plot()"
   ]
  },
  {
   "cell_type": "code",
   "execution_count": null,
   "id": "cdadf21b",
   "metadata": {},
   "outputs": [],
   "source": [
    "surv = model.predict_surv_df(x_test)"
   ]
  },
  {
   "cell_type": "code",
   "execution_count": null,
   "id": "dce1e682",
   "metadata": {},
   "outputs": [],
   "source": [
    "surv.iloc[:, :5].plot(drawstyle='steps-post')\n",
    "plt.ylabel('S(t | x)')\n",
    "_ = plt.xlabel('Time')"
   ]
  },
  {
   "cell_type": "code",
   "execution_count": null,
   "id": "d4ebca55",
   "metadata": {},
   "outputs": [],
   "source": [
    "surv = model.interpolate(10).predict_surv_df(x_test)"
   ]
  },
  {
   "cell_type": "code",
   "execution_count": null,
   "id": "28eaa0bf",
   "metadata": {},
   "outputs": [],
   "source": [
    "surv.iloc[:, :5].plot(drawstyle='steps-post')\n",
    "plt.ylabel('S(t | x)')\n",
    "_ = plt.xlabel('Time')"
   ]
  },
  {
   "cell_type": "code",
   "execution_count": null,
   "id": "143b2db1",
   "metadata": {},
   "outputs": [],
   "source": [
    "ev = EvalSurv(surv, durations_test, events_test, censor_surv='km')"
   ]
  },
  {
   "cell_type": "code",
   "execution_count": null,
   "id": "4980e02e",
   "metadata": {},
   "outputs": [],
   "source": [
    "ev.concordance_td()"
   ]
  },
  {
   "cell_type": "code",
   "execution_count": null,
   "id": "3cadcdab",
   "metadata": {},
   "outputs": [],
   "source": [
    "time_grid = np.linspace(durations_test.min(), durations_test.max(), 100)\n",
    "ev.integrated_brier_score(time_grid)"
   ]
  },
  {
   "cell_type": "code",
   "execution_count": null,
   "id": "708dded9",
   "metadata": {},
   "outputs": [],
   "source": [
    "ev.integrated_nbll(time_grid)"
   ]
  },
  {
   "cell_type": "markdown",
   "id": "8aea71c4",
   "metadata": {},
   "source": [
    "# PMF"
   ]
  },
  {
   "cell_type": "code",
   "execution_count": null,
   "id": "1271cc10",
   "metadata": {},
   "outputs": [],
   "source": [
    "from pycox.models import PMF"
   ]
  },
  {
   "cell_type": "code",
   "execution_count": null,
   "id": "3df4f610",
   "metadata": {},
   "outputs": [],
   "source": [
    "\n",
    "sample_labels = labels.loc[list(set(list(data.index.get_level_values('patient'))))]\n",
    "\n",
    "df_test = sample_labels.sample(frac=0.2)\n",
    "df_train = sample_labels.drop(df_test.index)\n",
    "df_val = sample_labels.sample(frac=0.2)\n",
    "df_train = sample_labels.drop(df_val.index)\n",
    "\n",
    "cols_standardize = ['age', 'height', 'weight']\n",
    "cols_leave = ['gender', 'hour', 'eyes', 'motor', 'verbal',\n",
    "       'ethnicity_BLACK/AFRICAN AMERICAN', 'ethnicity_OTHER',\n",
    "       'ethnicity_UNKNOWN', 'ethnicity_WHITE',\n",
    "       'ethnicity_WHITE - OTHER EUROPEAN', 'ethnicity_misc',\n",
    "       'first_careunit_Cardiac Vascular Intensive Care Unit (CVICU)',\n",
    "       'first_careunit_Coronary Care Unit (CCU)',\n",
    "       'first_careunit_Medical Intensive Care Unit (MICU)',\n",
    "       'first_careunit_Medical/Surgical Intensive Care Unit (MICU/SICU)',\n",
    "       'first_careunit_Neuro Intermediate', 'first_careunit_Neuro Stepdown',\n",
    "       'first_careunit_Neuro Surgical Intensive Care Unit (Neuro SICU)',\n",
    "       'first_careunit_Surgical Intensive Care Unit (SICU)',\n",
    "       'first_careunit_Trauma SICU (TSICU)',\n",
    "       'admission_location_EMERGENCY ROOM',\n",
    "       'admission_location_PHYSICIAN REFERRAL',\n",
    "       'admission_location_PROCEDURE SITE',\n",
    "       'admission_location_TRANSFER FROM HOSPITAL',\n",
    "       'admission_location_TRANSFER FROM SKILLED NURSING FACILITY',\n",
    "       'admission_location_WALK-IN/SELF REFERRAL', 'admission_location_misc',\n",
    "       'insurance_Medicaid', 'insurance_Medicare', 'insurance_Other']\n",
    "\n",
    "standardize = [([col], StandardScaler()) for col in cols_standardize]\n",
    "leave = [(col, None) for col in cols_leave]\n",
    "\n",
    "x_mapper = DataFrameMapper(standardize + leave)\n",
    "\n",
    "st = set(list(df_val.index.get_level_values('patient')))\n",
    "val_index = [i for i, e in enumerate(list(set(list(data.index.get_level_values('patient'))))) if e in st]\n",
    "st = set(list(df_train.index.get_level_values('patient')))\n",
    "train_index = [i for i, e in enumerate(list(set(list(data.index.get_level_values('patient'))))) if e in st]\n",
    "st = set(list(df_test.index.get_level_values('patient')))\n",
    "test_index = [i for i, e in enumerate(list(set(list(data.index.get_level_values('patient'))))) if e in st]\n",
    "\n",
    "input_train = data.iloc[list(train_index)]\n",
    "input_val = data.iloc[val_index]\n",
    "input_test = data.iloc[test_index]\n",
    "\n",
    "num_durations = 10\n",
    "labtrans = PMF.label_transform(num_durations)\n",
    "\n",
    "get_target = lambda df: (df['actualiculos'].values.astype('float32'), df['actualhospitalmortality'].values.astype('int32'))\n",
    "\n",
    "y_train = labtrans.fit_transform(*get_target(input_train))\n",
    "y_val = labtrans.transform(*get_target(input_val))\n",
    "\n",
    "input_train.drop(['uniquepid', 'patienthealthsystemstayid', 'actualhospitalmortality', 'actualiculos'], axis=1, inplace=True)\n",
    "input_val.drop(['uniquepid', 'patienthealthsystemstayid', 'actualhospitalmortality', 'actualiculos'], axis=1, inplace=True)\n",
    "\n",
    "x_train = x_mapper.fit_transform(input_train).astype('float32')\n",
    "x_val = x_mapper.transform(input_val).astype('float32')\n",
    "\n",
    "val = x_val, y_val\n",
    "\n",
    "# We don't need to transform the test labels\n",
    "durations_test, events_test = get_target(input_test)\n",
    "durations_test = labtrans.transform(*get_target(input_test))[0]\n",
    "\n",
    "input_test.drop(['uniquepid', 'patienthealthsystemstayid', 'actualhospitalmortality', 'actualiculos'], axis=1, inplace=True)\n",
    "\n",
    "x_test = x_mapper.transform(input_test).astype('float32')\n",
    "\n",
    "train = (x_train, y_train)\n",
    "val = (x_val, y_val)"
   ]
  },
  {
   "cell_type": "code",
   "execution_count": null,
   "id": "c130b2ce",
   "metadata": {},
   "outputs": [],
   "source": [
    "in_features = x_train.shape[1]\n",
    "num_nodes = [3*in_features, 5*in_features, 3*in_features]\n",
    "out_features = labtrans.out_features\n",
    "batch_norm = False\n",
    "dropout = 0.0\n",
    "output_bias = False\n",
    "\n",
    "net = tt.practical.MLPVanilla(in_features, num_nodes, out_features, batch_norm,\n",
    "                              dropout, output_bias=output_bias)"
   ]
  },
  {
   "cell_type": "code",
   "execution_count": null,
   "id": "3edecfbd",
   "metadata": {},
   "outputs": [],
   "source": [
    "model = PMF(net, tt.optim.Adam, duration_index=labtrans.cuts)"
   ]
  },
  {
   "cell_type": "code",
   "execution_count": null,
   "id": "5bc9c0da",
   "metadata": {},
   "outputs": [],
   "source": [
    "batch_size = 256\n",
    "lr_finder = model.lr_finder(x_train, y_train, batch_size, tolerance=4)\n",
    "_ = lr_finder.plot()"
   ]
  },
  {
   "cell_type": "code",
   "execution_count": null,
   "id": "6b176733",
   "metadata": {},
   "outputs": [],
   "source": [
    "lr_finder.get_best_lr()"
   ]
  },
  {
   "cell_type": "code",
   "execution_count": null,
   "id": "f20c2d06",
   "metadata": {},
   "outputs": [],
   "source": [
    "model.optimizer.set_lr(lr_finder.get_best_lr())"
   ]
  },
  {
   "cell_type": "code",
   "execution_count": null,
   "id": "5ed85e2c",
   "metadata": {},
   "outputs": [],
   "source": [
    "epochs = 1000\n",
    "verbose = True"
   ]
  },
  {
   "cell_type": "code",
   "execution_count": null,
   "id": "3b38dad7",
   "metadata": {},
   "outputs": [],
   "source": [
    "log = model.fit(x_train, y_train, batch_size, epochs, verbose,\n",
    "                val_data=val, val_batch_size=batch_size)"
   ]
  },
  {
   "cell_type": "code",
   "execution_count": null,
   "id": "6dc7ffbe",
   "metadata": {},
   "outputs": [],
   "source": [
    "_ = log.plot()"
   ]
  },
  {
   "cell_type": "code",
   "execution_count": null,
   "id": "f30e49f8",
   "metadata": {},
   "outputs": [],
   "source": [
    "surv = model.predict_surv_df(x_test)"
   ]
  },
  {
   "cell_type": "code",
   "execution_count": null,
   "id": "37b02d5a",
   "metadata": {},
   "outputs": [],
   "source": [
    "surv.iloc[:, :5].plot(drawstyle='steps-post')\n",
    "plt.ylabel('S(t | x)')\n",
    "_ = plt.xlabel('Time')"
   ]
  },
  {
   "cell_type": "code",
   "execution_count": null,
   "id": "96484078",
   "metadata": {},
   "outputs": [],
   "source": [
    "surv = model.interpolate(10).predict_surv_df(x_test)"
   ]
  },
  {
   "cell_type": "code",
   "execution_count": null,
   "id": "af6127c5",
   "metadata": {},
   "outputs": [],
   "source": [
    "surv.iloc[:, :5].plot(drawstyle='steps-post')\n",
    "plt.ylabel('S(t | x)')\n",
    "_ = plt.xlabel('Time')"
   ]
  },
  {
   "cell_type": "code",
   "execution_count": null,
   "id": "5e11f032",
   "metadata": {},
   "outputs": [],
   "source": [
    "ev = EvalSurv(surv, durations_test, events_test, censor_surv='km')"
   ]
  },
  {
   "cell_type": "code",
   "execution_count": null,
   "id": "51c70599",
   "metadata": {},
   "outputs": [],
   "source": [
    "ev.concordance_td('antolini')"
   ]
  },
  {
   "cell_type": "code",
   "execution_count": null,
   "id": "ca013f7d",
   "metadata": {},
   "outputs": [],
   "source": [
    "input_test = data.iloc[test_index]\n",
    "durations_test, events_test = get_target(input_test)\n",
    "ev = EvalSurv(surv, durations_test, events_test, censor_surv='km')\n",
    "time_grid = np.linspace(durations_test.min(), durations_test.max(), 100)\n",
    "ev.brier_score(time_grid).plot()\n",
    "plt.ylabel('Brier score')\n",
    "_ = plt.xlabel('Time')"
   ]
  },
  {
   "cell_type": "code",
   "execution_count": null,
   "id": "051c5a2a",
   "metadata": {},
   "outputs": [],
   "source": [
    "ev.integrated_brier_score(time_grid) "
   ]
  },
  {
   "cell_type": "code",
   "execution_count": null,
   "id": "a80ba17f",
   "metadata": {},
   "outputs": [],
   "source": [
    "ev.integrated_nbll(time_grid) "
   ]
  },
  {
   "cell_type": "markdown",
   "id": "9a1573a9",
   "metadata": {},
   "source": [
    "# DeepHit"
   ]
  },
  {
   "cell_type": "code",
   "execution_count": null,
   "id": "188ac301",
   "metadata": {},
   "outputs": [],
   "source": [
    "from pycox.models import DeepHitSingle"
   ]
  },
  {
   "cell_type": "code",
   "execution_count": null,
   "id": "2d71c5ee",
   "metadata": {},
   "outputs": [],
   "source": [
    "\n",
    "sample_labels = labels.loc[list(set(list(data.index.get_level_values('patient'))))]\n",
    "\n",
    "df_test = sample_labels.sample(frac=0.2)\n",
    "df_train = sample_labels.drop(df_test.index)\n",
    "df_val = sample_labels.sample(frac=0.2)\n",
    "df_train = sample_labels.drop(df_val.index)\n",
    "\n",
    "cols_standardize = ['age', 'height', 'weight']\n",
    "cols_leave = ['gender', 'hour', 'eyes', 'motor', 'verbal',\n",
    "       'ethnicity_BLACK/AFRICAN AMERICAN', 'ethnicity_OTHER',\n",
    "       'ethnicity_UNKNOWN', 'ethnicity_WHITE',\n",
    "       'ethnicity_WHITE - OTHER EUROPEAN', 'ethnicity_misc',\n",
    "       'first_careunit_Cardiac Vascular Intensive Care Unit (CVICU)',\n",
    "       'first_careunit_Coronary Care Unit (CCU)',\n",
    "       'first_careunit_Medical Intensive Care Unit (MICU)',\n",
    "       'first_careunit_Medical/Surgical Intensive Care Unit (MICU/SICU)',\n",
    "       'first_careunit_Neuro Intermediate', 'first_careunit_Neuro Stepdown',\n",
    "       'first_careunit_Neuro Surgical Intensive Care Unit (Neuro SICU)',\n",
    "       'first_careunit_Surgical Intensive Care Unit (SICU)',\n",
    "       'first_careunit_Trauma SICU (TSICU)',\n",
    "       'admission_location_EMERGENCY ROOM',\n",
    "       'admission_location_PHYSICIAN REFERRAL',\n",
    "       'admission_location_PROCEDURE SITE',\n",
    "       'admission_location_TRANSFER FROM HOSPITAL',\n",
    "       'admission_location_TRANSFER FROM SKILLED NURSING FACILITY',\n",
    "       'admission_location_WALK-IN/SELF REFERRAL', 'admission_location_misc',\n",
    "       'insurance_Medicaid', 'insurance_Medicare', 'insurance_Other']\n",
    "\n",
    "standardize = [([col], StandardScaler()) for col in cols_standardize]\n",
    "leave = [(col, None) for col in cols_leave]\n",
    "\n",
    "x_mapper = DataFrameMapper(standardize + leave)\n",
    "\n",
    "st = set(list(df_val.index.get_level_values('patient')))\n",
    "val_index = [i for i, e in enumerate(list(set(list(data.index.get_level_values('patient'))))) if e in st]\n",
    "st = set(list(df_train.index.get_level_values('patient')))\n",
    "train_index = [i for i, e in enumerate(list(set(list(data.index.get_level_values('patient'))))) if e in st]\n",
    "st = set(list(df_test.index.get_level_values('patient')))\n",
    "test_index = [i for i, e in enumerate(list(set(list(data.index.get_level_values('patient'))))) if e in st]\n",
    "\n",
    "input_train = data.iloc[list(train_index)]\n",
    "input_val = data.iloc[val_index]\n",
    "input_test = data.iloc[test_index]\n",
    "\n",
    "num_durations = 10\n",
    "labtrans = DeepHitSingle.label_transform(num_durations)\n",
    "\n",
    "get_target = lambda df: (df['actualiculos'].values.astype('float32'), df['actualhospitalmortality'].values.astype('int32'))\n",
    "\n",
    "y_train = labtrans.fit_transform(*get_target(input_train))\n",
    "y_val = labtrans.transform(*get_target(input_val))\n",
    "\n",
    "input_train.drop(['uniquepid', 'patienthealthsystemstayid', 'actualhospitalmortality', 'actualiculos'], axis=1, inplace=True)\n",
    "input_val.drop(['uniquepid', 'patienthealthsystemstayid', 'actualhospitalmortality', 'actualiculos'], axis=1, inplace=True)\n",
    "\n",
    "x_train = x_mapper.fit_transform(input_train).astype('float32')\n",
    "x_val = x_mapper.transform(input_val).astype('float32')\n",
    "\n",
    "val = x_val, y_val\n",
    "\n",
    "# We don't need to transform the test labels\n",
    "durations_test, events_test = get_target(input_test)\n",
    "durations_test = labtrans.transform(*get_target(input_test))[0]\n",
    "\n",
    "input_test.drop(['uniquepid', 'patienthealthsystemstayid', 'actualhospitalmortality', 'actualiculos'], axis=1, inplace=True)\n",
    "\n",
    "x_test = x_mapper.transform(input_test).astype('float32')\n",
    "\n",
    "train = (x_train, y_train)\n",
    "val = (x_val, y_val)"
   ]
  },
  {
   "cell_type": "code",
   "execution_count": null,
   "id": "c9a51cd4",
   "metadata": {},
   "outputs": [],
   "source": [
    "in_features = x_train.shape[1]\n",
    "num_nodes = [3*in_features, 5*in_features, 3*in_features]\n",
    "out_features = labtrans.out_features\n",
    "batch_norm = True\n",
    "dropout = 0.6\n",
    "output_bias = False\n",
    "\n",
    "net = tt.practical.MLPVanilla(in_features, num_nodes, out_features, batch_norm,\n",
    "                              dropout, output_bias=output_bias)"
   ]
  },
  {
   "cell_type": "code",
   "execution_count": null,
   "id": "45ee0667",
   "metadata": {},
   "outputs": [],
   "source": [
    "model = DeepHitSingle(net, tt.optim.Adam, alpha=0.2, sigma=0.1, duration_index=labtrans.cuts)"
   ]
  },
  {
   "cell_type": "code",
   "execution_count": null,
   "id": "79d54f0b",
   "metadata": {},
   "outputs": [],
   "source": [
    "batch_size = 256\n",
    "lr_finder = model.lr_finder(x_train, y_train, batch_size, tolerance=4)\n",
    "_ = lr_finder.plot()"
   ]
  },
  {
   "cell_type": "code",
   "execution_count": null,
   "id": "58f0d7b2",
   "metadata": {},
   "outputs": [],
   "source": [
    "lr_finder.get_best_lr()"
   ]
  },
  {
   "cell_type": "code",
   "execution_count": null,
   "id": "f8339b34",
   "metadata": {},
   "outputs": [],
   "source": [
    "model.optimizer.set_lr(lr_finder.get_best_lr())"
   ]
  },
  {
   "cell_type": "code",
   "execution_count": null,
   "id": "4dcc44c9",
   "metadata": {},
   "outputs": [],
   "source": [
    "epochs = 1000\n",
    "verbose = True"
   ]
  },
  {
   "cell_type": "code",
   "execution_count": null,
   "id": "4d398a96",
   "metadata": {},
   "outputs": [],
   "source": [
    "log = model.fit(x_train, y_train, batch_size, epochs, val_data=val)"
   ]
  },
  {
   "cell_type": "code",
   "execution_count": null,
   "id": "a687c1a2",
   "metadata": {},
   "outputs": [],
   "source": [
    "_ = log.plot()"
   ]
  },
  {
   "cell_type": "code",
   "execution_count": null,
   "id": "4250e99b",
   "metadata": {},
   "outputs": [],
   "source": [
    "surv = model.predict_surv_df(x_test)"
   ]
  },
  {
   "cell_type": "code",
   "execution_count": null,
   "id": "6eaf2c5c",
   "metadata": {},
   "outputs": [],
   "source": [
    "surv = model.interpolate(10).predict_surv_df(x_test)"
   ]
  },
  {
   "cell_type": "code",
   "execution_count": null,
   "id": "3edff39e",
   "metadata": {},
   "outputs": [],
   "source": [
    "surv.iloc[:, :5].plot(drawstyle='steps-post')\n",
    "plt.ylabel('S(t | x)')\n",
    "_ = plt.xlabel('Time')"
   ]
  },
  {
   "cell_type": "code",
   "execution_count": null,
   "id": "2bf5b3a0",
   "metadata": {},
   "outputs": [],
   "source": [
    "ev = EvalSurv(surv, durations_test, events_test, censor_surv='km')"
   ]
  },
  {
   "cell_type": "code",
   "execution_count": null,
   "id": "4056df31",
   "metadata": {},
   "outputs": [],
   "source": [
    "ev.concordance_td('antolini')"
   ]
  },
  {
   "cell_type": "code",
   "execution_count": null,
   "id": "15371858",
   "metadata": {},
   "outputs": [],
   "source": [
    "input_test = data.iloc[test_index]\n",
    "durations_test, events_test = get_target(input_test)\n",
    "ev = EvalSurv(surv, durations_test, events_test, censor_surv='km')\n",
    "time_grid = np.linspace(durations_test.min(), durations_test.max(), 100)"
   ]
  },
  {
   "cell_type": "code",
   "execution_count": null,
   "id": "363930fe",
   "metadata": {},
   "outputs": [],
   "source": [
    "ev.integrated_brier_score(time_grid) "
   ]
  },
  {
   "cell_type": "code",
   "execution_count": null,
   "id": "774e4d1f",
   "metadata": {},
   "outputs": [],
   "source": [
    "ev.integrated_nbll(time_grid) "
   ]
  },
  {
   "cell_type": "markdown",
   "id": "485ffa43",
   "metadata": {},
   "source": [
    "# MTLR"
   ]
  },
  {
   "cell_type": "code",
   "execution_count": null,
   "id": "9cd58ed0",
   "metadata": {},
   "outputs": [],
   "source": [
    "from pycox.models import MTLR"
   ]
  },
  {
   "cell_type": "code",
   "execution_count": null,
   "id": "c2491e1d",
   "metadata": {},
   "outputs": [],
   "source": [
    "\n",
    "sample_labels = labels.loc[list(set(list(data.index.get_level_values('patient'))))]\n",
    "\n",
    "df_test = sample_labels.sample(frac=0.2)\n",
    "df_train = sample_labels.drop(df_test.index)\n",
    "df_val = sample_labels.sample(frac=0.2)\n",
    "df_train = sample_labels.drop(df_val.index)\n",
    "\n",
    "cols_standardize = ['age', 'height', 'weight']\n",
    "cols_leave = ['gender', 'hour', 'eyes', 'motor', 'verbal',\n",
    "       'ethnicity_BLACK/AFRICAN AMERICAN', 'ethnicity_OTHER',\n",
    "       'ethnicity_UNKNOWN', 'ethnicity_WHITE',\n",
    "       'ethnicity_WHITE - OTHER EUROPEAN', 'ethnicity_misc',\n",
    "       'first_careunit_Cardiac Vascular Intensive Care Unit (CVICU)',\n",
    "       'first_careunit_Coronary Care Unit (CCU)',\n",
    "       'first_careunit_Medical Intensive Care Unit (MICU)',\n",
    "       'first_careunit_Medical/Surgical Intensive Care Unit (MICU/SICU)',\n",
    "       'first_careunit_Neuro Intermediate', 'first_careunit_Neuro Stepdown',\n",
    "       'first_careunit_Neuro Surgical Intensive Care Unit (Neuro SICU)',\n",
    "       'first_careunit_Surgical Intensive Care Unit (SICU)',\n",
    "       'first_careunit_Trauma SICU (TSICU)',\n",
    "       'admission_location_EMERGENCY ROOM',\n",
    "       'admission_location_PHYSICIAN REFERRAL',\n",
    "       'admission_location_PROCEDURE SITE',\n",
    "       'admission_location_TRANSFER FROM HOSPITAL',\n",
    "       'admission_location_TRANSFER FROM SKILLED NURSING FACILITY',\n",
    "       'admission_location_WALK-IN/SELF REFERRAL', 'admission_location_misc',\n",
    "       'insurance_Medicaid', 'insurance_Medicare', 'insurance_Other']\n",
    "\n",
    "standardize = [([col], StandardScaler()) for col in cols_standardize]\n",
    "leave = [(col, None) for col in cols_leave]\n",
    "\n",
    "x_mapper = DataFrameMapper(standardize + leave)\n",
    "\n",
    "st = set(list(df_val.index.get_level_values('patient')))\n",
    "val_index = [i for i, e in enumerate(list(set(list(data.index.get_level_values('patient'))))) if e in st]\n",
    "st = set(list(df_train.index.get_level_values('patient')))\n",
    "train_index = [i for i, e in enumerate(list(set(list(data.index.get_level_values('patient'))))) if e in st]\n",
    "st = set(list(df_test.index.get_level_values('patient')))\n",
    "test_index = [i for i, e in enumerate(list(set(list(data.index.get_level_values('patient'))))) if e in st]\n",
    "\n",
    "input_train = data.iloc[list(train_index)]\n",
    "input_val = data.iloc[val_index]\n",
    "input_test = data.iloc[test_index]\n",
    "\n",
    "num_durations = 10\n",
    "labtrans = MTLR.label_transform(num_durations)\n",
    "\n",
    "get_target = lambda df: (df['actualiculos'].values.astype('float32'), df['actualhospitalmortality'].values.astype('int32'))\n",
    "\n",
    "y_train = labtrans.fit_transform(*get_target(input_train))\n",
    "y_val = labtrans.transform(*get_target(input_val))\n",
    "\n",
    "input_train.drop(['uniquepid', 'patienthealthsystemstayid', 'actualhospitalmortality', 'actualiculos'], axis=1, inplace=True)\n",
    "input_val.drop(['uniquepid', 'patienthealthsystemstayid', 'actualhospitalmortality', 'actualiculos'], axis=1, inplace=True)\n",
    "\n",
    "x_train = x_mapper.fit_transform(input_train).astype('float32')\n",
    "x_val = x_mapper.transform(input_val).astype('float32')\n",
    "\n",
    "val = x_val, y_val\n",
    "\n",
    "# We don't need to transform the test labels\n",
    "durations_test, events_test = get_target(input_test)\n",
    "durations_test = labtrans.transform(*get_target(input_test))[0]\n",
    "\n",
    "input_test.drop(['uniquepid', 'patienthealthsystemstayid', 'actualhospitalmortality', 'actualiculos'], axis=1, inplace=True)\n",
    "\n",
    "x_test = x_mapper.transform(input_test).astype('float32')\n",
    "\n",
    "train = (x_train, y_train)\n",
    "val = (x_val, y_val)"
   ]
  },
  {
   "cell_type": "code",
   "execution_count": null,
   "id": "4d71bc1c",
   "metadata": {},
   "outputs": [],
   "source": [
    "in_features = x_train.shape[1]\n",
    "num_nodes = [3*in_features, 5*in_features, 3*in_features]\n",
    "out_features = labtrans.out_features\n",
    "batch_norm = True\n",
    "dropout = 0.5\n",
    "output_bias = False\n",
    "\n",
    "net = tt.practical.MLPVanilla(in_features, num_nodes, out_features, batch_norm,\n",
    "                              dropout, output_bias=output_bias)"
   ]
  },
  {
   "cell_type": "code",
   "execution_count": null,
   "id": "c807b1f4",
   "metadata": {},
   "outputs": [],
   "source": [
    "model = MTLR(net, tt.optim.Adam, duration_index=labtrans.cuts)"
   ]
  },
  {
   "cell_type": "code",
   "execution_count": null,
   "id": "b8ca07bf",
   "metadata": {},
   "outputs": [],
   "source": [
    "batch_size = 256\n",
    "lr_finder = model.lr_finder(x_train, y_train, batch_size, tolerance=6)\n",
    "_ = lr_finder.plot()"
   ]
  },
  {
   "cell_type": "code",
   "execution_count": null,
   "id": "07be602c",
   "metadata": {},
   "outputs": [],
   "source": [
    "lr_finder.get_best_lr()"
   ]
  },
  {
   "cell_type": "code",
   "execution_count": null,
   "id": "0ce68c22",
   "metadata": {},
   "outputs": [],
   "source": [
    "model.optimizer.set_lr(lr_finder.get_best_lr())"
   ]
  },
  {
   "cell_type": "code",
   "execution_count": null,
   "id": "60551617",
   "metadata": {},
   "outputs": [],
   "source": [
    "epochs = 1000\n",
    "verbose = True"
   ]
  },
  {
   "cell_type": "code",
   "execution_count": null,
   "id": "945102c5",
   "metadata": {},
   "outputs": [],
   "source": [
    "log = model.fit(x_train, y_train, batch_size, epochs, val_data=val)"
   ]
  },
  {
   "cell_type": "code",
   "execution_count": null,
   "id": "609c17c5",
   "metadata": {},
   "outputs": [],
   "source": [
    "_ = log.plot()"
   ]
  },
  {
   "cell_type": "code",
   "execution_count": null,
   "id": "9d5ceb5e",
   "metadata": {},
   "outputs": [],
   "source": [
    "surv = model.predict_surv_df(x_test)"
   ]
  },
  {
   "cell_type": "code",
   "execution_count": null,
   "id": "4a1eed9e",
   "metadata": {},
   "outputs": [],
   "source": [
    "surv = model.interpolate(10).predict_surv_df(x_test)"
   ]
  },
  {
   "cell_type": "code",
   "execution_count": null,
   "id": "895c2784",
   "metadata": {},
   "outputs": [],
   "source": [
    "surv.iloc[:, :5].plot(drawstyle='steps-post')\n",
    "plt.ylabel('S(t | x)')\n",
    "_ = plt.xlabel('Time')"
   ]
  },
  {
   "cell_type": "code",
   "execution_count": null,
   "id": "eb83b1fe",
   "metadata": {},
   "outputs": [],
   "source": [
    "ev = EvalSurv(surv, durations_test, events_test, censor_surv='km')"
   ]
  },
  {
   "cell_type": "code",
   "execution_count": null,
   "id": "ae002489",
   "metadata": {},
   "outputs": [],
   "source": [
    "ev.concordance_td('antolini')"
   ]
  },
  {
   "cell_type": "code",
   "execution_count": null,
   "id": "2459f1a4",
   "metadata": {},
   "outputs": [],
   "source": [
    "input_test = data.iloc[test_index]\n",
    "durations_test, events_test = get_target(input_test)\n",
    "ev = EvalSurv(surv, durations_test, events_test, censor_surv='km')\n",
    "time_grid = np.linspace(durations_test.min(), durations_test.max(), 100)"
   ]
  },
  {
   "cell_type": "code",
   "execution_count": null,
   "id": "eb5f49af",
   "metadata": {},
   "outputs": [],
   "source": [
    "ev.integrated_brier_score(time_grid) "
   ]
  },
  {
   "cell_type": "code",
   "execution_count": null,
   "id": "a6d04561",
   "metadata": {},
   "outputs": [],
   "source": [
    "ev.integrated_nbll(time_grid) "
   ]
  },
  {
   "cell_type": "markdown",
   "id": "44045068",
   "metadata": {},
   "source": [
    "# BCESurv"
   ]
  },
  {
   "cell_type": "code",
   "execution_count": null,
   "id": "0d2c50ec",
   "metadata": {},
   "outputs": [],
   "source": [
    "from pycox.models import BCESurv"
   ]
  },
  {
   "cell_type": "code",
   "execution_count": null,
   "id": "9ef0b6b1",
   "metadata": {},
   "outputs": [],
   "source": [
    "sample_labels = labels.loc[list(set(list(data.index.get_level_values('patient'))))]\n",
    "\n",
    "df_test = sample_labels.sample(frac=0.2)\n",
    "df_train = sample_labels.drop(df_test.index)\n",
    "df_val = sample_labels.sample(frac=0.2)\n",
    "df_train = sample_labels.drop(df_val.index)\n",
    "\n",
    "cols_standardize = ['age', 'height', 'weight']\n",
    "cols_leave = ['gender', 'hour', 'eyes', 'motor', 'verbal',\n",
    "       'ethnicity_BLACK/AFRICAN AMERICAN', 'ethnicity_OTHER',\n",
    "       'ethnicity_UNKNOWN', 'ethnicity_WHITE',\n",
    "       'ethnicity_WHITE - OTHER EUROPEAN', 'ethnicity_misc',\n",
    "       'first_careunit_Cardiac Vascular Intensive Care Unit (CVICU)',\n",
    "       'first_careunit_Coronary Care Unit (CCU)',\n",
    "       'first_careunit_Medical Intensive Care Unit (MICU)',\n",
    "       'first_careunit_Medical/Surgical Intensive Care Unit (MICU/SICU)',\n",
    "       'first_careunit_Neuro Intermediate', 'first_careunit_Neuro Stepdown',\n",
    "       'first_careunit_Neuro Surgical Intensive Care Unit (Neuro SICU)',\n",
    "       'first_careunit_Surgical Intensive Care Unit (SICU)',\n",
    "       'first_careunit_Trauma SICU (TSICU)',\n",
    "       'admission_location_EMERGENCY ROOM',\n",
    "       'admission_location_PHYSICIAN REFERRAL',\n",
    "       'admission_location_PROCEDURE SITE',\n",
    "       'admission_location_TRANSFER FROM HOSPITAL',\n",
    "       'admission_location_TRANSFER FROM SKILLED NURSING FACILITY',\n",
    "       'admission_location_WALK-IN/SELF REFERRAL', 'admission_location_misc',\n",
    "       'insurance_Medicaid', 'insurance_Medicare', 'insurance_Other']\n",
    "\n",
    "standardize = [([col], StandardScaler()) for col in cols_standardize]\n",
    "leave = [(col, None) for col in cols_leave]\n",
    "\n",
    "x_mapper = DataFrameMapper(standardize + leave)\n",
    "\n",
    "st = set(list(df_val.index.get_level_values('patient')))\n",
    "val_index = [i for i, e in enumerate(list(set(list(data.index.get_level_values('patient'))))) if e in st]\n",
    "st = set(list(df_train.index.get_level_values('patient')))\n",
    "train_index = [i for i, e in enumerate(list(set(list(data.index.get_level_values('patient'))))) if e in st]\n",
    "st = set(list(df_test.index.get_level_values('patient')))\n",
    "test_index = [i for i, e in enumerate(list(set(list(data.index.get_level_values('patient'))))) if e in st]\n",
    "\n",
    "input_train = data.iloc[list(train_index)]\n",
    "input_val = data.iloc[val_index]\n",
    "input_test = data.iloc[test_index]\n",
    "\n",
    "n_durations = 10\n",
    "labtrans = LogisticHazard.label_transform(n_durations)\n",
    "\n",
    "get_target = lambda df: (df['actualiculos'].values.astype('float32'), df['actualhospitalmortality'].values.astype('int32'))\n",
    "y_train = labtrans.fit_transform(*get_target(input_train))\n",
    "y_val = labtrans.fit_transform(*get_target(input_val))\n",
    "y_test = labtrans.transform(*get_target(input_test))\n",
    "\n",
    "input_train.drop(['uniquepid', 'patienthealthsystemstayid', 'actualhospitalmortality', 'actualiculos'], axis=1, inplace=True)\n",
    "input_val.drop(['uniquepid', 'patienthealthsystemstayid', 'actualhospitalmortality', 'actualiculos'], axis=1, inplace=True)\n",
    "\n",
    "x_train = x_mapper.fit_transform(input_train).astype('float32')\n",
    "x_val = x_mapper.transform(input_val).astype('float32')\n",
    "\n",
    "train = tt.tuplefy(x_train, y_train)\n",
    "val = tt.tuplefy(x_val, y_val)\n",
    "\n",
    "# We don't need to transform the test labels\n",
    "durations_test, events_test = get_target(input_test)\n",
    "durations_test = labtrans.transform(*get_target(input_test))[0]\n",
    "\n",
    "input_test.drop(['uniquepid', 'patienthealthsystemstayid', 'actualhospitalmortality', 'actualiculos'], axis=1, inplace=True)\n",
    "\n",
    "x_test = x_mapper.transform(input_test).astype('float32')\n",
    "test = tt.tuplefy(x_test, y_test)"
   ]
  },
  {
   "cell_type": "code",
   "execution_count": null,
   "id": "41411342",
   "metadata": {},
   "outputs": [],
   "source": [
    "def make_net(train, labtrans, dropout=0.0):\n",
    "    in_features = train[0].shape[1]\n",
    "    out_features = labtrans.out_features\n",
    "    num_nodes = [3*in_features, 5*in_features, 3*in_features]\n",
    "    net = tt.practical.MLPVanilla(in_features, num_nodes, out_features,\n",
    "                                  dropout=dropout)\n",
    "    return net"
   ]
  },
  {
   "cell_type": "code",
   "execution_count": null,
   "id": "0a256b39",
   "metadata": {},
   "outputs": [],
   "source": [
    "def fit_and_predict(model_class, train, val, test, labtrans, lr=0.01, n_itp=20):\n",
    "    net = make_net(train, labtrans)\n",
    "    model = model_class(net, tt.optim.AdamWR(lr, cycle_eta_multiplier=0.8), duration_index=labtrans.cuts)\n",
    "    log = model.fit(*train, 256, 256, verbose=False, val_data=val,\n",
    "                    callbacks=[tt.cb.EarlyStoppingCycle()])\n",
    "    surv = model.interpolate(n_itp).predict_surv_df(test[0])\n",
    "    return surv, model"
   ]
  },
  {
   "cell_type": "code",
   "execution_count": null,
   "id": "7499e6fa",
   "metadata": {},
   "outputs": [],
   "source": [
    "surv_bce, model_bce = fit_and_predict(BCESurv, train, val, test, labtrans, lr=0.0001)"
   ]
  },
  {
   "cell_type": "code",
   "execution_count": null,
   "id": "e5150f2f",
   "metadata": {},
   "outputs": [],
   "source": [
    "_ = model_bce.log.to_pandas().iloc[1:].plot()"
   ]
  },
  {
   "cell_type": "code",
   "execution_count": null,
   "id": "9c1d85cf",
   "metadata": {},
   "outputs": [],
   "source": [
    "ev_bce_true = EvalSurv(surv_bce, durations_test, events_test, 'km')"
   ]
  },
  {
   "cell_type": "code",
   "execution_count": null,
   "id": "b2cd749b",
   "metadata": {},
   "outputs": [],
   "source": [
    "ev.concordance_td('antolini')"
   ]
  },
  {
   "cell_type": "code",
   "execution_count": null,
   "id": "b1646cfb",
   "metadata": {},
   "outputs": [],
   "source": [
    "time_grid = np.linspace(0, 100, 100)"
   ]
  },
  {
   "cell_type": "code",
   "execution_count": null,
   "id": "f909f23b",
   "metadata": {},
   "outputs": [],
   "source": [
    "input_test = data.iloc[test_index]\n",
    "durations_test, events_test = get_target(input_test)\n",
    "ev = EvalSurv(surv, durations_test, events_test, censor_surv='km')\n",
    "time_grid = np.linspace(durations_test.min(), durations_test.max(), 100)"
   ]
  },
  {
   "cell_type": "code",
   "execution_count": null,
   "id": "bc5beb2b",
   "metadata": {},
   "outputs": [],
   "source": [
    "ev.integrated_brier_score(time_grid) "
   ]
  },
  {
   "cell_type": "code",
   "execution_count": null,
   "id": "a7fa3bc6",
   "metadata": {},
   "outputs": [],
   "source": [
    "ev.integrated_nbll(time_grid) "
   ]
  },
  {
   "cell_type": "markdown",
   "id": "109fcb58",
   "metadata": {},
   "source": [
    "# CoxTime"
   ]
  },
  {
   "cell_type": "code",
   "execution_count": null,
   "id": "87af2cd2",
   "metadata": {},
   "outputs": [],
   "source": [
    "from pycox.models import CoxTime\n",
    "from pycox.models.cox_time import MLPVanillaCoxTime"
   ]
  },
  {
   "cell_type": "code",
   "execution_count": null,
   "id": "044f30f8",
   "metadata": {},
   "outputs": [],
   "source": [
    "\n",
    "sample_labels = labels.loc[list(set(list(data.index.get_level_values('patient'))))]\n",
    "\n",
    "df_test = sample_labels.sample(frac=0.2)\n",
    "df_train = sample_labels.drop(df_test.index)\n",
    "df_val = sample_labels.sample(frac=0.2)\n",
    "df_train = sample_labels.drop(df_val.index)\n",
    "\n",
    "cols_standardize = ['age', 'height', 'weight']\n",
    "cols_leave = ['gender', 'hour', 'eyes', 'motor', 'verbal',\n",
    "       'ethnicity_BLACK/AFRICAN AMERICAN', 'ethnicity_OTHER',\n",
    "       'ethnicity_UNKNOWN', 'ethnicity_WHITE',\n",
    "       'ethnicity_WHITE - OTHER EUROPEAN', 'ethnicity_misc',\n",
    "       'first_careunit_Cardiac Vascular Intensive Care Unit (CVICU)',\n",
    "       'first_careunit_Coronary Care Unit (CCU)',\n",
    "       'first_careunit_Medical Intensive Care Unit (MICU)',\n",
    "       'first_careunit_Medical/Surgical Intensive Care Unit (MICU/SICU)',\n",
    "       'first_careunit_Neuro Intermediate', 'first_careunit_Neuro Stepdown',\n",
    "       'first_careunit_Neuro Surgical Intensive Care Unit (Neuro SICU)',\n",
    "       'first_careunit_Surgical Intensive Care Unit (SICU)',\n",
    "       'first_careunit_Trauma SICU (TSICU)',\n",
    "       'admission_location_EMERGENCY ROOM',\n",
    "       'admission_location_PHYSICIAN REFERRAL',\n",
    "       'admission_location_PROCEDURE SITE',\n",
    "       'admission_location_TRANSFER FROM HOSPITAL',\n",
    "       'admission_location_TRANSFER FROM SKILLED NURSING FACILITY',\n",
    "       'admission_location_WALK-IN/SELF REFERRAL', 'admission_location_misc',\n",
    "       'insurance_Medicaid', 'insurance_Medicare', 'insurance_Other']\n",
    "\n",
    "standardize = [([col], StandardScaler()) for col in cols_standardize]\n",
    "leave = [(col, None) for col in cols_leave]\n",
    "\n",
    "x_mapper = DataFrameMapper(standardize + leave)\n",
    "\n",
    "st = set(list(df_val.index.get_level_values('patient')))\n",
    "val_index = [i for i, e in enumerate(list(set(list(data.index.get_level_values('patient'))))) if e in st]\n",
    "st = set(list(df_train.index.get_level_values('patient')))\n",
    "train_index = [i for i, e in enumerate(list(set(list(data.index.get_level_values('patient'))))) if e in st]\n",
    "st = set(list(df_test.index.get_level_values('patient')))\n",
    "test_index = [i for i, e in enumerate(list(set(list(data.index.get_level_values('patient'))))) if e in st]\n",
    "\n",
    "input_train = data.iloc[list(train_index)]\n",
    "input_val = data.iloc[val_index]\n",
    "input_test = data.iloc[test_index]\n",
    "\n",
    "num_durations = 10\n",
    "labtrans = CoxTime.label_transform()\n",
    "\n",
    "get_target = lambda df: (df['actualiculos'].values.astype('float32'), df['actualhospitalmortality'].values.astype('int32'))\n",
    "\n",
    "y_train = labtrans.fit_transform(*get_target(input_train))\n",
    "y_val = labtrans.transform(*get_target(input_val))\n",
    "\n",
    "input_train.drop(['uniquepid', 'patienthealthsystemstayid', 'actualhospitalmortality', 'actualiculos'], axis=1, inplace=True)\n",
    "input_val.drop(['uniquepid', 'patienthealthsystemstayid', 'actualhospitalmortality', 'actualiculos'], axis=1, inplace=True)\n",
    "\n",
    "x_train = x_mapper.fit_transform(input_train).astype('float32')\n",
    "x_val = x_mapper.transform(input_val).astype('float32')\n",
    "\n",
    "val = tt.tuplefy(x_val, y_val)\n",
    "\n",
    "# We don't need to transform the test labels\n",
    "durations_test, events_test = get_target(input_test)\n",
    "durations_test = labtrans.transform(*get_target(input_test))[0]\n",
    "\n",
    "input_test.drop(['uniquepid', 'patienthealthsystemstayid', 'actualhospitalmortality', 'actualiculos'], axis=1, inplace=True)\n",
    "\n",
    "x_test = x_mapper.transform(input_test).astype('float32')"
   ]
  },
  {
   "cell_type": "code",
   "execution_count": null,
   "id": "031b87e6",
   "metadata": {},
   "outputs": [],
   "source": [
    "in_features = x_train.shape[1]\n",
    "num_nodes = [32, 32]\n",
    "out_features = labtrans.out_features\n",
    "batch_norm = True\n",
    "dropout = 0.5\n",
    "output_bias = False\n",
    "net = MLPVanillaCoxTime(in_features, num_nodes, batch_norm, dropout)"
   ]
  },
  {
   "cell_type": "code",
   "execution_count": null,
   "id": "9e6f06bd",
   "metadata": {},
   "outputs": [],
   "source": [
    "model = CoxTime(net, tt.optim.Adam, labtrans=labtrans)"
   ]
  },
  {
   "cell_type": "code",
   "execution_count": null,
   "id": "ef7e3770",
   "metadata": {},
   "outputs": [],
   "source": [
    "batch_size = 256\n",
    "lrfinder = model.lr_finder(x_train, y_train, batch_size, tolerance=2)\n",
    "_ = lrfinder.plot()"
   ]
  },
  {
   "cell_type": "code",
   "execution_count": null,
   "id": "9ba94c84",
   "metadata": {},
   "outputs": [],
   "source": [
    "lrfinder.get_best_lr()"
   ]
  },
  {
   "cell_type": "code",
   "execution_count": null,
   "id": "8f432bf6",
   "metadata": {},
   "outputs": [],
   "source": [
    "model.optimizer.set_lr(lrfinder.get_best_lr())"
   ]
  },
  {
   "cell_type": "code",
   "execution_count": null,
   "id": "de83012a",
   "metadata": {},
   "outputs": [],
   "source": [
    "epochs = 1000\n",
    "verbose = True"
   ]
  },
  {
   "cell_type": "code",
   "execution_count": null,
   "id": "d84feafc",
   "metadata": {},
   "outputs": [],
   "source": [
    "log = model.fit(x_train, y_train, batch_size, epochs, verbose,\n",
    "                val_data=val.repeat(10).cat())"
   ]
  },
  {
   "cell_type": "code",
   "execution_count": null,
   "id": "968c61be",
   "metadata": {},
   "outputs": [],
   "source": [
    "_ = log.plot()"
   ]
  },
  {
   "cell_type": "code",
   "execution_count": null,
   "id": "3216c4aa",
   "metadata": {},
   "outputs": [],
   "source": [
    "_ = model.compute_baseline_hazards()"
   ]
  },
  {
   "cell_type": "code",
   "execution_count": null,
   "id": "eb816744",
   "metadata": {},
   "outputs": [],
   "source": [
    "surv = model.predict_surv_df(x_test)"
   ]
  },
  {
   "cell_type": "code",
   "execution_count": null,
   "id": "8808208e",
   "metadata": {},
   "outputs": [],
   "source": [
    "surv.iloc[:, :5].plot()\n",
    "plt.ylabel('S(t | x)')\n",
    "_ = plt.xlabel('Time')"
   ]
  },
  {
   "cell_type": "code",
   "execution_count": null,
   "id": "1273df62",
   "metadata": {},
   "outputs": [],
   "source": [
    "ev = EvalSurv(surv, durations_test, events_test, censor_surv='km')\n",
    "ev.concordance_td('antolini')"
   ]
  },
  {
   "cell_type": "code",
   "execution_count": null,
   "id": "343368b1",
   "metadata": {},
   "outputs": [],
   "source": [
    "input_test = data.iloc[test_index]\n",
    "durations_test, events_test = get_target(input_test)\n",
    "ev = EvalSurv(surv, durations_test, events_test, censor_surv='km')\n",
    "time_grid = np.linspace(durations_test.min(), durations_test.max(), 100)"
   ]
  },
  {
   "cell_type": "code",
   "execution_count": null,
   "id": "edd420e5",
   "metadata": {},
   "outputs": [],
   "source": [
    "ev.integrated_brier_score(time_grid) "
   ]
  },
  {
   "cell_type": "code",
   "execution_count": null,
   "id": "e3ba5880",
   "metadata": {},
   "outputs": [],
   "source": [
    "ev.integrated_nbll(time_grid) "
   ]
  },
  {
   "cell_type": "markdown",
   "id": "13a3fea4",
   "metadata": {},
   "source": [
    "# CoxCC"
   ]
  },
  {
   "cell_type": "code",
   "execution_count": null,
   "id": "dd16a941",
   "metadata": {},
   "outputs": [],
   "source": [
    "from pycox.models import CoxCC"
   ]
  },
  {
   "cell_type": "code",
   "execution_count": null,
   "id": "3b1dadf5",
   "metadata": {},
   "outputs": [],
   "source": [
    "\n",
    "sample_labels = labels.loc[list(set(list(data.index.get_level_values('patient'))))]\n",
    "\n",
    "df_test = sample_labels.sample(frac=0.2)\n",
    "df_train = sample_labels.drop(df_test.index)\n",
    "df_val = sample_labels.sample(frac=0.2)\n",
    "df_train = sample_labels.drop(df_val.index)\n",
    "\n",
    "cols_standardize = ['age', 'height', 'weight']\n",
    "cols_leave = ['gender', 'hour', 'eyes', 'motor', 'verbal',\n",
    "       'ethnicity_BLACK/AFRICAN AMERICAN', 'ethnicity_OTHER',\n",
    "       'ethnicity_UNKNOWN', 'ethnicity_WHITE',\n",
    "       'ethnicity_WHITE - OTHER EUROPEAN', 'ethnicity_misc',\n",
    "       'first_careunit_Cardiac Vascular Intensive Care Unit (CVICU)',\n",
    "       'first_careunit_Coronary Care Unit (CCU)',\n",
    "       'first_careunit_Medical Intensive Care Unit (MICU)',\n",
    "       'first_careunit_Medical/Surgical Intensive Care Unit (MICU/SICU)',\n",
    "       'first_careunit_Neuro Intermediate', 'first_careunit_Neuro Stepdown',\n",
    "       'first_careunit_Neuro Surgical Intensive Care Unit (Neuro SICU)',\n",
    "       'first_careunit_Surgical Intensive Care Unit (SICU)',\n",
    "       'first_careunit_Trauma SICU (TSICU)',\n",
    "       'admission_location_EMERGENCY ROOM',\n",
    "       'admission_location_PHYSICIAN REFERRAL',\n",
    "       'admission_location_PROCEDURE SITE',\n",
    "       'admission_location_TRANSFER FROM HOSPITAL',\n",
    "       'admission_location_TRANSFER FROM SKILLED NURSING FACILITY',\n",
    "       'admission_location_WALK-IN/SELF REFERRAL', 'admission_location_misc',\n",
    "       'insurance_Medicaid', 'insurance_Medicare', 'insurance_Other']\n",
    "\n",
    "standardize = [([col], StandardScaler()) for col in cols_standardize]\n",
    "leave = [(col, None) for col in cols_leave]\n",
    "\n",
    "x_mapper = DataFrameMapper(standardize + leave)\n",
    "\n",
    "st = set(list(df_val.index.get_level_values('patient')))\n",
    "val_index = [i for i, e in enumerate(list(set(list(data.index.get_level_values('patient'))))) if e in st]\n",
    "st = set(list(df_train.index.get_level_values('patient')))\n",
    "train_index = [i for i, e in enumerate(list(set(list(data.index.get_level_values('patient'))))) if e in st]\n",
    "st = set(list(df_test.index.get_level_values('patient')))\n",
    "test_index = [i for i, e in enumerate(list(set(list(data.index.get_level_values('patient'))))) if e in st]\n",
    "\n",
    "input_train = data.iloc[list(train_index)]\n",
    "input_val = data.iloc[val_index]\n",
    "input_test = data.iloc[test_index]\n",
    "\n",
    "get_target = lambda df: (df['actualiculos'].values.astype('float32'), df['actualhospitalmortality'].values.astype('int32'))\n",
    "\n",
    "y_train = get_target(input_train)\n",
    "y_val = get_target(input_val)\n",
    "\n",
    "input_train.drop(['uniquepid', 'patienthealthsystemstayid', 'actualhospitalmortality', 'actualiculos'], axis=1, inplace=True)\n",
    "input_val.drop(['uniquepid', 'patienthealthsystemstayid', 'actualhospitalmortality', 'actualiculos'], axis=1, inplace=True)\n",
    "\n",
    "x_train = x_mapper.fit_transform(input_train).astype('float32')\n",
    "x_val = x_mapper.transform(input_val).astype('float32')\n",
    "\n",
    "val = tt.tuplefy(x_val, y_val)\n",
    "\n",
    "# We don't need to transform the test labels\n",
    "durations_test, events_test = get_target(input_test)\n",
    "\n",
    "input_test.drop(['uniquepid', 'patienthealthsystemstayid', 'actualhospitalmortality', 'actualiculos'], axis=1, inplace=True)\n",
    "\n",
    "x_test = x_mapper.transform(input_test).astype('float32')"
   ]
  },
  {
   "cell_type": "code",
   "execution_count": null,
   "id": "66f329ae",
   "metadata": {},
   "outputs": [],
   "source": [
    "in_features = x_train.shape[1]\n",
    "num_nodes = [32, 32]\n",
    "out_features = 1\n",
    "batch_norm = True\n",
    "dropout = 0.5\n",
    "output_bias = False\n",
    "\n",
    "net = tt.practical.MLPVanilla(in_features, num_nodes, out_features, batch_norm,\n",
    "                              dropout, output_bias=output_bias)"
   ]
  },
  {
   "cell_type": "code",
   "execution_count": null,
   "id": "7c5b23f1",
   "metadata": {},
   "outputs": [],
   "source": [
    "model = CoxCC(net, tt.optim.Adam)"
   ]
  },
  {
   "cell_type": "code",
   "execution_count": null,
   "id": "0215cbff",
   "metadata": {},
   "outputs": [],
   "source": [
    "batch_size = 256\n",
    "lrfinder = model.lr_finder(x_train, y_train, batch_size, tolerance=2)\n",
    "_ = lrfinder.plot()"
   ]
  },
  {
   "cell_type": "code",
   "execution_count": null,
   "id": "63a8429b",
   "metadata": {},
   "outputs": [],
   "source": [
    "lrfinder.get_best_lr()"
   ]
  },
  {
   "cell_type": "code",
   "execution_count": null,
   "id": "2ea8f112",
   "metadata": {},
   "outputs": [],
   "source": [
    "model.optimizer.set_lr(lrfinder.get_best_lr())"
   ]
  },
  {
   "cell_type": "code",
   "execution_count": null,
   "id": "79b21748",
   "metadata": {},
   "outputs": [],
   "source": [
    "epochs = 1000\n",
    "verbose = True"
   ]
  },
  {
   "cell_type": "code",
   "execution_count": null,
   "id": "fede638b",
   "metadata": {},
   "outputs": [],
   "source": [
    "log = model.fit(x_train, y_train, batch_size, epochs, verbose,\n",
    "                val_data=val.repeat(10).cat())"
   ]
  },
  {
   "cell_type": "code",
   "execution_count": null,
   "id": "3ed391b0",
   "metadata": {},
   "outputs": [],
   "source": [
    "_ = log.plot()"
   ]
  },
  {
   "cell_type": "code",
   "execution_count": null,
   "id": "fa467d73",
   "metadata": {},
   "outputs": [],
   "source": [
    "_ = model.compute_baseline_hazards()"
   ]
  },
  {
   "cell_type": "code",
   "execution_count": null,
   "id": "0360ee82",
   "metadata": {},
   "outputs": [],
   "source": [
    "surv = model.predict_surv_df(x_test)"
   ]
  },
  {
   "cell_type": "code",
   "execution_count": null,
   "id": "b925cd73",
   "metadata": {},
   "outputs": [],
   "source": [
    "surv.iloc[:, :5].plot()\n",
    "plt.ylabel('S(t | x)')\n",
    "_ = plt.xlabel('Time')"
   ]
  },
  {
   "cell_type": "code",
   "execution_count": null,
   "id": "91eeaa33",
   "metadata": {},
   "outputs": [],
   "source": [
    "ev = EvalSurv(surv, durations_test, events_test, censor_surv='km')\n",
    "ev.concordance_td('antolini')"
   ]
  },
  {
   "cell_type": "code",
   "execution_count": null,
   "id": "e4cf0e68",
   "metadata": {},
   "outputs": [],
   "source": [
    "input_test = data.iloc[test_index]\n",
    "durations_test, events_test = get_target(input_test)\n",
    "ev = EvalSurv(surv, durations_test, events_test, censor_surv='km')\n",
    "time_grid = np.linspace(durations_test.min(), durations_test.max(), 100)"
   ]
  },
  {
   "cell_type": "code",
   "execution_count": null,
   "id": "b935b05d",
   "metadata": {},
   "outputs": [],
   "source": [
    "ev.integrated_brier_score(time_grid) "
   ]
  },
  {
   "cell_type": "code",
   "execution_count": null,
   "id": "8d554b18",
   "metadata": {},
   "outputs": [],
   "source": [
    "ev.integrated_nbll(time_grid) "
   ]
  },
  {
   "cell_type": "markdown",
   "id": "1c2c07f5",
   "metadata": {},
   "source": [
    "# DeepSurv"
   ]
  },
  {
   "cell_type": "code",
   "execution_count": null,
   "id": "7ab59635",
   "metadata": {},
   "outputs": [],
   "source": [
    "from pycox.models import CoxPH"
   ]
  },
  {
   "cell_type": "code",
   "execution_count": null,
   "id": "c910d260",
   "metadata": {},
   "outputs": [],
   "source": [
    "\n",
    "sample_labels = labels.loc[list(set(list(data.index.get_level_values('patient'))))]\n",
    "\n",
    "df_test = sample_labels.sample(frac=0.2)\n",
    "df_train = sample_labels.drop(df_test.index)\n",
    "df_val = sample_labels.sample(frac=0.2)\n",
    "df_train = sample_labels.drop(df_val.index)\n",
    "\n",
    "cols_standardize = ['age', 'height', 'weight']\n",
    "cols_leave = ['gender', 'hour', 'eyes', 'motor', 'verbal',\n",
    "       'ethnicity_BLACK/AFRICAN AMERICAN', 'ethnicity_OTHER',\n",
    "       'ethnicity_UNKNOWN', 'ethnicity_WHITE',\n",
    "       'ethnicity_WHITE - OTHER EUROPEAN', 'ethnicity_misc',\n",
    "       'first_careunit_Cardiac Vascular Intensive Care Unit (CVICU)',\n",
    "       'first_careunit_Coronary Care Unit (CCU)',\n",
    "       'first_careunit_Medical Intensive Care Unit (MICU)',\n",
    "       'first_careunit_Medical/Surgical Intensive Care Unit (MICU/SICU)',\n",
    "       'first_careunit_Neuro Intermediate', 'first_careunit_Neuro Stepdown',\n",
    "       'first_careunit_Neuro Surgical Intensive Care Unit (Neuro SICU)',\n",
    "       'first_careunit_Surgical Intensive Care Unit (SICU)',\n",
    "       'first_careunit_Trauma SICU (TSICU)',\n",
    "       'admission_location_EMERGENCY ROOM',\n",
    "       'admission_location_PHYSICIAN REFERRAL',\n",
    "       'admission_location_PROCEDURE SITE',\n",
    "       'admission_location_TRANSFER FROM HOSPITAL',\n",
    "       'admission_location_TRANSFER FROM SKILLED NURSING FACILITY',\n",
    "       'admission_location_WALK-IN/SELF REFERRAL', 'admission_location_misc',\n",
    "       'insurance_Medicaid', 'insurance_Medicare', 'insurance_Other']\n",
    "\n",
    "standardize = [([col], StandardScaler()) for col in cols_standardize]\n",
    "leave = [(col, None) for col in cols_leave]\n",
    "\n",
    "x_mapper = DataFrameMapper(standardize + leave)\n",
    "\n",
    "st = set(list(df_val.index.get_level_values('patient')))\n",
    "val_index = [i for i, e in enumerate(list(set(list(data.index.get_level_values('patient'))))) if e in st]\n",
    "st = set(list(df_train.index.get_level_values('patient')))\n",
    "train_index = [i for i, e in enumerate(list(set(list(data.index.get_level_values('patient'))))) if e in st]\n",
    "st = set(list(df_test.index.get_level_values('patient')))\n",
    "test_index = [i for i, e in enumerate(list(set(list(data.index.get_level_values('patient'))))) if e in st]\n",
    "\n",
    "input_train = data.iloc[list(train_index)]\n",
    "input_val = data.iloc[val_index]\n",
    "input_test = data.iloc[test_index]\n",
    "\n",
    "get_target = lambda df: (df['actualiculos'].values.astype('float32'), df['actualhospitalmortality'].values.astype('int32'))\n",
    "\n",
    "y_train = get_target(input_train)\n",
    "y_val = get_target(input_val)\n",
    "\n",
    "input_train.drop(['uniquepid', 'patienthealthsystemstayid', 'actualhospitalmortality', 'actualiculos'], axis=1, inplace=True)\n",
    "input_val.drop(['uniquepid', 'patienthealthsystemstayid', 'actualhospitalmortality', 'actualiculos'], axis=1, inplace=True)\n",
    "\n",
    "x_train = x_mapper.fit_transform(input_train).astype('float32')\n",
    "x_val = x_mapper.transform(input_val).astype('float32')\n",
    "\n",
    "val = x_val, y_val\n",
    "\n",
    "# We don't need to transform the test labels\n",
    "durations_test, events_test = get_target(input_test)\n",
    "\n",
    "input_test.drop(['uniquepid', 'patienthealthsystemstayid', 'actualhospitalmortality', 'actualiculos'], axis=1, inplace=True)\n",
    "\n",
    "x_test = x_mapper.transform(input_test).astype('float32')"
   ]
  },
  {
   "cell_type": "code",
   "execution_count": null,
   "id": "35c4d5ed",
   "metadata": {},
   "outputs": [],
   "source": [
    "in_features = x_train.shape[1]\n",
    "num_nodes = [32, 32]\n",
    "out_features = 1\n",
    "batch_norm = True\n",
    "dropout = 0.5\n",
    "output_bias = False\n",
    "\n",
    "net = tt.practical.MLPVanilla(in_features, num_nodes, out_features, batch_norm,\n",
    "                              dropout, output_bias=output_bias)"
   ]
  },
  {
   "cell_type": "code",
   "execution_count": null,
   "id": "a1a1ba3f",
   "metadata": {},
   "outputs": [],
   "source": [
    "model = CoxPH(net, tt.optim.Adam)"
   ]
  },
  {
   "cell_type": "code",
   "execution_count": null,
   "id": "8daf61f1",
   "metadata": {},
   "outputs": [],
   "source": [
    "batch_size = 256\n",
    "lrfinder = model.lr_finder(x_train, y_train, batch_size, tolerance=10)\n",
    "_ = lrfinder.plot()"
   ]
  },
  {
   "cell_type": "code",
   "execution_count": null,
   "id": "6e477a70",
   "metadata": {},
   "outputs": [],
   "source": [
    "lrfinder.get_best_lr()"
   ]
  },
  {
   "cell_type": "code",
   "execution_count": null,
   "id": "176ff820",
   "metadata": {},
   "outputs": [],
   "source": [
    "model.optimizer.set_lr(lrfinder.get_best_lr())"
   ]
  },
  {
   "cell_type": "code",
   "execution_count": null,
   "id": "487c38ad",
   "metadata": {},
   "outputs": [],
   "source": [
    "epochs = 1000\n",
    "verbose = True"
   ]
  },
  {
   "cell_type": "code",
   "execution_count": null,
   "id": "2a1cbc63",
   "metadata": {},
   "outputs": [],
   "source": [
    "log = model.fit(x_train, y_train, batch_size, epochs, verbose,\n",
    "                val_data=val, val_batch_size=batch_size)"
   ]
  },
  {
   "cell_type": "code",
   "execution_count": null,
   "id": "2b961449",
   "metadata": {},
   "outputs": [],
   "source": [
    "_ = log.plot()"
   ]
  },
  {
   "cell_type": "code",
   "execution_count": null,
   "id": "f296c31c",
   "metadata": {},
   "outputs": [],
   "source": [
    "_ = model.compute_baseline_hazards()"
   ]
  },
  {
   "cell_type": "code",
   "execution_count": null,
   "id": "28966b04",
   "metadata": {},
   "outputs": [],
   "source": [
    "surv = model.predict_surv_df(x_test)"
   ]
  },
  {
   "cell_type": "code",
   "execution_count": null,
   "id": "3553a439",
   "metadata": {},
   "outputs": [],
   "source": [
    "surv.iloc[:, :5].plot()\n",
    "plt.ylabel('S(t | x)')\n",
    "_ = plt.xlabel('Time')"
   ]
  },
  {
   "cell_type": "code",
   "execution_count": null,
   "id": "fb6fe4fc",
   "metadata": {},
   "outputs": [],
   "source": [
    "ev = EvalSurv(surv, durations_test, events_test, censor_surv='km')"
   ]
  },
  {
   "cell_type": "code",
   "execution_count": null,
   "id": "b537bfbc",
   "metadata": {},
   "outputs": [],
   "source": [
    "ev.concordance_td()"
   ]
  },
  {
   "cell_type": "code",
   "execution_count": null,
   "id": "38f1137b",
   "metadata": {},
   "outputs": [],
   "source": [
    "time_grid = np.linspace(durations_test.min(), durations_test.max(), 100)"
   ]
  },
  {
   "cell_type": "code",
   "execution_count": null,
   "id": "4e6975de",
   "metadata": {},
   "outputs": [],
   "source": [
    "ev.integrated_brier_score(time_grid)"
   ]
  },
  {
   "cell_type": "code",
   "execution_count": null,
   "id": "2915c9ad",
   "metadata": {},
   "outputs": [],
   "source": [
    "ev.integrated_nbll(time_grid)"
   ]
  },
  {
   "cell_type": "code",
   "execution_count": null,
   "id": "a1d0ce19",
   "metadata": {},
   "outputs": [],
   "source": []
  },
  {
   "cell_type": "markdown",
   "id": "c44bf043",
   "metadata": {},
   "source": [
    "# PCHazard"
   ]
  },
  {
   "cell_type": "code",
   "execution_count": null,
   "id": "70ce37a8",
   "metadata": {},
   "outputs": [],
   "source": [
    "from pycox.models import PCHazard"
   ]
  },
  {
   "cell_type": "code",
   "execution_count": null,
   "id": "f4d336e9",
   "metadata": {},
   "outputs": [],
   "source": [
    "\n",
    "sample_labels = labels.loc[list(set(list(data.index.get_level_values('patient'))))]\n",
    "\n",
    "df_test = sample_labels.sample(frac=0.2)\n",
    "df_train = sample_labels.drop(df_test.index)\n",
    "df_val = sample_labels.sample(frac=0.2)\n",
    "df_train = sample_labels.drop(df_val.index)\n",
    "\n",
    "cols_standardize = ['age', 'height', 'weight']\n",
    "cols_leave = ['gender', 'hour', 'eyes', 'motor', 'verbal',\n",
    "       'ethnicity_BLACK/AFRICAN AMERICAN', 'ethnicity_OTHER',\n",
    "       'ethnicity_UNKNOWN', 'ethnicity_WHITE',\n",
    "       'ethnicity_WHITE - OTHER EUROPEAN', 'ethnicity_misc',\n",
    "       'first_careunit_Cardiac Vascular Intensive Care Unit (CVICU)',\n",
    "       'first_careunit_Coronary Care Unit (CCU)',\n",
    "       'first_careunit_Medical Intensive Care Unit (MICU)',\n",
    "       'first_careunit_Medical/Surgical Intensive Care Unit (MICU/SICU)',\n",
    "       'first_careunit_Neuro Intermediate', 'first_careunit_Neuro Stepdown',\n",
    "       'first_careunit_Neuro Surgical Intensive Care Unit (Neuro SICU)',\n",
    "       'first_careunit_Surgical Intensive Care Unit (SICU)',\n",
    "       'first_careunit_Trauma SICU (TSICU)',\n",
    "       'admission_location_EMERGENCY ROOM',\n",
    "       'admission_location_PHYSICIAN REFERRAL',\n",
    "       'admission_location_PROCEDURE SITE',\n",
    "       'admission_location_TRANSFER FROM HOSPITAL',\n",
    "       'admission_location_TRANSFER FROM SKILLED NURSING FACILITY',\n",
    "       'admission_location_WALK-IN/SELF REFERRAL', 'admission_location_misc',\n",
    "       'insurance_Medicaid', 'insurance_Medicare', 'insurance_Other']\n",
    "\n",
    "standardize = [([col], StandardScaler()) for col in cols_standardize]\n",
    "leave = [(col, None) for col in cols_leave]\n",
    "\n",
    "x_mapper = DataFrameMapper(standardize + leave)\n",
    "\n",
    "st = set(list(df_val.index.get_level_values('patient')))\n",
    "val_index = [i for i, e in enumerate(list(set(list(data.index.get_level_values('patient'))))) if e in st]\n",
    "st = set(list(df_train.index.get_level_values('patient')))\n",
    "train_index = [i for i, e in enumerate(list(set(list(data.index.get_level_values('patient'))))) if e in st]\n",
    "st = set(list(df_test.index.get_level_values('patient')))\n",
    "test_index = [i for i, e in enumerate(list(set(list(data.index.get_level_values('patient'))))) if e in st]\n",
    "\n",
    "input_train = data.iloc[list(train_index)]\n",
    "input_val = data.iloc[val_index]\n",
    "input_test = data.iloc[test_index]\n",
    "\n",
    "num_durations = 10\n",
    "labtrans = PCHazard.label_transform(num_durations)\n",
    "\n",
    "get_target = lambda df: (df['actualiculos'].values.astype('float32'), df['actualhospitalmortality'].values.astype('int32'))\n",
    "\n",
    "y_train = labtrans.fit_transform(*get_target(input_train))\n",
    "y_val = labtrans.transform(*get_target(input_val))\n",
    "\n",
    "input_train.drop(['uniquepid', 'patienthealthsystemstayid', 'actualhospitalmortality', 'actualiculos'], axis=1, inplace=True)\n",
    "input_val.drop(['uniquepid', 'patienthealthsystemstayid', 'actualhospitalmortality', 'actualiculos'], axis=1, inplace=True)\n",
    "\n",
    "x_train = x_mapper.fit_transform(input_train).astype('float32')\n",
    "x_val = x_mapper.transform(input_val).astype('float32')\n",
    "\n",
    "train = (x_train, y_train)\n",
    "val = (x_val, y_val)\n",
    "\n",
    "# We don't need to transform the test labels\n",
    "durations_test, events_test = get_target(input_test)\n",
    "\n",
    "input_test.drop(['uniquepid', 'patienthealthsystemstayid', 'actualhospitalmortality', 'actualiculos'], axis=1, inplace=True)\n",
    "\n",
    "x_test = x_mapper.transform(input_test).astype('float32')"
   ]
  },
  {
   "cell_type": "code",
   "execution_count": null,
   "id": "a25ba3af",
   "metadata": {},
   "outputs": [],
   "source": [
    "in_features = x_train.shape[1]\n",
    "num_nodes = [3*in_features, 5*in_features, 3*in_features]\n",
    "out_features = labtrans.out_features\n",
    "batch_norm = True\n",
    "dropout = 0.5\n",
    "output_bias = False\n",
    "\n",
    "net = tt.practical.MLPVanilla(in_features, num_nodes, out_features, batch_norm, dropout)"
   ]
  },
  {
   "cell_type": "code",
   "execution_count": null,
   "id": "65663745",
   "metadata": {},
   "outputs": [],
   "source": [
    "model = PCHazard(net, tt.optim.Adam, duration_index=labtrans.cuts)"
   ]
  },
  {
   "cell_type": "code",
   "execution_count": null,
   "id": "19fd8a06",
   "metadata": {},
   "outputs": [],
   "source": [
    "batch_size = 256\n",
    "lr_finder = model.lr_finder(x_train, y_train, batch_size, tolerance=8)\n",
    "_ = lr_finder.plot()"
   ]
  },
  {
   "cell_type": "code",
   "execution_count": null,
   "id": "d4c72e36",
   "metadata": {},
   "outputs": [],
   "source": [
    "lr_finder.get_best_lr()"
   ]
  },
  {
   "cell_type": "code",
   "execution_count": null,
   "id": "68462336",
   "metadata": {},
   "outputs": [],
   "source": [
    "model.optimizer.set_lr(lr_finder.get_best_lr())"
   ]
  },
  {
   "cell_type": "code",
   "execution_count": null,
   "id": "197506a1",
   "metadata": {},
   "outputs": [],
   "source": [
    "epochs = 1000\n",
    "log = model.fit(x_train, y_train, batch_size, epochs, val_data=val)"
   ]
  },
  {
   "cell_type": "code",
   "execution_count": null,
   "id": "11b23754",
   "metadata": {},
   "outputs": [],
   "source": [
    "_ = log.plot()"
   ]
  },
  {
   "cell_type": "code",
   "execution_count": null,
   "id": "33201f39",
   "metadata": {},
   "outputs": [],
   "source": [
    "surv = model.predict_surv_df(x_test)"
   ]
  },
  {
   "cell_type": "code",
   "execution_count": null,
   "id": "dea2adcc",
   "metadata": {},
   "outputs": [],
   "source": [
    "model.sub = 10"
   ]
  },
  {
   "cell_type": "code",
   "execution_count": null,
   "id": "9e7a85da",
   "metadata": {},
   "outputs": [],
   "source": [
    "surv = model.predict_surv_df(x_test)\n",
    "surv.iloc[:, :5].plot(drawstyle='steps-post')\n",
    "plt.ylabel('S(t | x)')\n",
    "_ = plt.xlabel('Time')"
   ]
  },
  {
   "cell_type": "code",
   "execution_count": null,
   "id": "77391bd8",
   "metadata": {},
   "outputs": [],
   "source": [
    "ev = EvalSurv(surv, durations_test, events_test, censor_surv='km')"
   ]
  },
  {
   "cell_type": "code",
   "execution_count": null,
   "id": "905d7505",
   "metadata": {},
   "outputs": [],
   "source": [
    "ev.concordance_td('antolini')"
   ]
  },
  {
   "cell_type": "code",
   "execution_count": null,
   "id": "003f81ec",
   "metadata": {},
   "outputs": [],
   "source": [
    "time_grid = np.linspace(durations_test.min(), durations_test.max(), 100)"
   ]
  },
  {
   "cell_type": "code",
   "execution_count": null,
   "id": "0e9a9536",
   "metadata": {},
   "outputs": [],
   "source": [
    "ev.integrated_brier_score(time_grid) "
   ]
  },
  {
   "cell_type": "code",
   "execution_count": null,
   "id": "e75f4a71",
   "metadata": {},
   "outputs": [],
   "source": [
    "ev.integrated_nbll(time_grid) "
   ]
  },
  {
   "cell_type": "code",
   "execution_count": null,
   "id": "729e1c73",
   "metadata": {},
   "outputs": [],
   "source": []
  },
  {
   "cell_type": "code",
   "execution_count": null,
   "id": "c4732a6e",
   "metadata": {},
   "outputs": [],
   "source": []
  }
 ],
 "metadata": {
  "kernelspec": {
   "display_name": "Python 3 (ipykernel)",
   "language": "python",
   "name": "python3"
  },
  "language_info": {
   "codemirror_mode": {
    "name": "ipython",
    "version": 3
   },
   "file_extension": ".py",
   "mimetype": "text/x-python",
   "name": "python",
   "nbconvert_exporter": "python",
   "pygments_lexer": "ipython3",
   "version": "3.8.13"
  }
 },
 "nbformat": 4,
 "nbformat_minor": 5
}
